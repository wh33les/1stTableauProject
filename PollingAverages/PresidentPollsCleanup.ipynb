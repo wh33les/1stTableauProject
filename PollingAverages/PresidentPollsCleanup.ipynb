{
 "cells": [
  {
   "cell_type": "code",
   "execution_count": 1,
   "id": "6b2082ec",
   "metadata": {},
   "outputs": [],
   "source": [
    "# Packages\n",
    "\n",
    "# To make data frames\n",
    "import pandas as pd\n",
    "\n",
    "# Numerical calculations\n",
    "import numpy as np\n",
    "\n",
    "# Timer\n",
    "import time # for debugging\n",
    "\n",
    "# For date arithmetic\n",
    "from datetime import datetime, timedelta"
   ]
  },
  {
   "cell_type": "code",
   "execution_count": 2,
   "id": "b6643b8e",
   "metadata": {},
   "outputs": [],
   "source": [
    "# Functions\n",
    "\n",
    "# Get how long a function takes (needs time)\n",
    "def time_elapsed(start, end):\n",
    "    total_time_seconds = end-start\n",
    "    print(\"Total time elapsed:\") \n",
    "    if total_time_seconds < 60:\n",
    "        print(total_time_seconds, \"seconds\")\n",
    "    else:\n",
    "        total_time_minutes = total_time_seconds/60 \n",
    "        if total_time_minutes < 60: \n",
    "            print(total_time_minutes, \"minutes\") \n",
    "        else: \n",
    "            total_time_hours = total_time_minutes/60 \n",
    "            print(total_time_hours, \"hours\")\n",
    "    print() \n",
    "    \n",
    "# Add a row to df with given end_date, candidate_name, and party (needs df)\n",
    "def insert_row(date, candidate, pop):\n",
    "    global df\n",
    "    df.at[len(df), 'end_date'] = date\n",
    "    #df['end_date'][len(df-1)] = pd.to_datetime(df['end_date'][len(df-1)]).dt.date()\n",
    "    df.at[len(df)-1, 'candidate_name'] = candidate\n",
    "    df.at[len(df)-1, 'population'] = pop\n",
    "\n",
    "# Impute a missing date for a candidate (needs the df)\n",
    "def impute_for_candidate(date, candidate, pop):\n",
    "    print(\"date, candidate, pop are \"+str(date)+\", \"+candidate+\", \"+pop) # for debugging\n",
    "    if ((df['end_date'] == date) & (df['candidate_name'] == candidate) & (df['population'] == pop)).any() == False:   \n",
    "        print(\"No entry for this date, candidate, population.\") # for debugging\n",
    "        insert_row(date, candidate, pop)    \n",
    "        print(\"Now we've inserted a row.\") # for debugging\n",
    "    else: # for debugging\n",
    "        print(\"Candidate has an entry here.\") # for debugging\n",
    "    print() # for debugging"
   ]
  },
  {
   "cell_type": "code",
   "execution_count": null,
   "id": "a84724e9",
   "metadata": {},
   "outputs": [],
   "source": [
    "# Read in the data\n",
    "\n",
    "old_data = pd.read_csv(\"president_polls_cleaned.csv\")\n",
    "updated_data = pd.read_csv(\"president_polls.csv\")\n",
    "\n",
    "# Parse the dates\n",
    "\n",
    "old_data['end_date'] = pd.to_datetime(old_data['end_date'], format='mixed').dt.date\n",
    "updated_data['end_date'] = pd.to_datetime(updated_data['end_date'], format='mixed').dt.date"
   ]
  },
  {
   "cell_type": "code",
   "execution_count": 4,
   "id": "3bd0ea75",
   "metadata": {},
   "outputs": [],
   "source": [
    "# Get the new data, along with the last week of old data\n",
    "\n",
    "last_date = old_data['end_date'][0]"
   ]
  },
  {
   "cell_type": "code",
   "execution_count": null,
   "id": "9a9bd1b1",
   "metadata": {},
   "outputs": [],
   "source": [
    "df = updated_data[updated_data['end_date'] > last_date]\n",
    "df['end_date']"
   ]
  },
  {
   "cell_type": "code",
   "execution_count": 6,
   "id": "a09ee6e3",
   "metadata": {},
   "outputs": [],
   "source": [
    "# Restrict to national and swing state polls\n",
    "\n",
    "swing_states = [\"Arizona\", \"Georgia\", \"Michigan\", \"Nevada\", \"North Carolina\", \"Pennsylvania\", \"Wisconsin\"]\n",
    "df = df.loc[df['state'].isin(swing_states) | df['state'].isnull()]"
   ]
  },
  {
   "cell_type": "code",
   "execution_count": 7,
   "id": "4db1f2e5",
   "metadata": {},
   "outputs": [],
   "source": [
    "# Delete superfluous columns\n",
    "\n",
    "df.drop(columns=['poll_id', 'pollster_id', 'pollster', 'sponsor_ids', 'display_name', 'pollster_rating_id', \n",
    "                 'sponsor_candidate_id', 'sponsor_candidate', 'sponsor_candidate_party', 'endorsed_candidate_id', \n",
    "                 'endorsed_candidate_name', 'endorsed_candidate_party', 'subpopulation', 'population_full', 'tracking', \n",
    "                 'created_at', 'notes', 'url', 'source', 'internal', 'race_id', 'cycle', 'office_type', 'seat_number', \n",
    "                 'seat_name', 'election_date', 'stage', 'nationwide_batch', 'ranked_choice_reallocated', \n",
    "                 'ranked_choice_round', 'answer', 'candidate_id'], inplace=True)"
   ]
  },
  {
   "cell_type": "code",
   "execution_count": null,
   "id": "4945213d",
   "metadata": {},
   "outputs": [],
   "source": [
    "# Replace the 'v' in the population column with 'rv'\n",
    "\n",
    "df['population'].replace('v', 'rv', inplace=True)"
   ]
  },
  {
   "cell_type": "code",
   "execution_count": 9,
   "id": "eaa7725a",
   "metadata": {},
   "outputs": [],
   "source": [
    "# Use groupby to get daily averages according to population polled\n",
    "\n",
    "cand_avg_by_date = df.groupby(['end_date', 'candidate_name', 'population'])['pct'].mean().reset_index(name='da_by_pop')\n",
    "df = pd.merge(df, cand_avg_by_date)"
   ]
  },
  {
   "cell_type": "code",
   "execution_count": 10,
   "id": "09bc5f15",
   "metadata": {},
   "outputs": [],
   "source": [
    "# Get lists for imputing \n",
    "\n",
    "all_dates = df['end_date'].drop_duplicates() #pd.date_range(df['end_date'].tolist()[-1], df['end_date'].tolist()[0], freq='D')\n",
    "candidates = ['Donald Trump', 'Joe Biden', 'Kamala Harris'] \n",
    "pops = ['lv', 'rv', 'a']"
   ]
  },
  {
   "cell_type": "code",
   "execution_count": null,
   "id": "83a79620",
   "metadata": {},
   "outputs": [],
   "source": [
    "all_dates"
   ]
  },
  {
   "cell_type": "code",
   "execution_count": null,
   "id": "e735609f",
   "metadata": {},
   "outputs": [],
   "source": [
    "# Impute the missing dates, candidate, populations \n",
    "\n",
    "start_impute = time.time()\n",
    "for date in all_dates:\n",
    "    for candidate in candidates:\n",
    "        for pop in pops:\n",
    "            impute_for_candidate(date, candidate, pop)\n",
    "end_impute = time.time()\n",
    "time_elapsed(start_impute, end_impute)   "
   ]
  },
  {
   "cell_type": "code",
   "execution_count": 13,
   "id": "3b476132",
   "metadata": {},
   "outputs": [],
   "source": [
    "# Reparse the dates, then take only the crucial data\n",
    "\n",
    "#df['end_date'] = pd.to_datetime(df['end_date'], format='mixed').dt.date\n",
    "crucial_data = df.loc[(df['candidate_name'] == 'Donald Trump') | (df['candidate_name'] == 'Joe Biden') | \n",
    "       (df['candidate_name'] == 'Kamala Harris'), ['population', 'candidate_name', \n",
    "                                                   'end_date', 'da_by_pop']].drop_duplicates()\n"
   ]
  },
  {
   "cell_type": "code",
   "execution_count": null,
   "id": "6bff64ab",
   "metadata": {},
   "outputs": [],
   "source": [
    "crucial_data.sort_values(['end_date', 'candidate_name', 'population']).tail(50)"
   ]
  },
  {
   "cell_type": "code",
   "execution_count": null,
   "id": "b80c3679-8c07-4ac9-a204-83b081d4238d",
   "metadata": {},
   "outputs": [],
   "source": [
    "# Add in the last six days of the old data for the rolling average\n",
    "\n",
    "crucial_data = pd.concat([old_data[old_data['end_date'] > last_date-pd.Timedelta(days=7)], crucial_data], ignore_index=True)\n",
    "crucial_data"
   ]
  },
  {
   "cell_type": "code",
   "execution_count": null,
   "id": "9446b57d",
   "metadata": {},
   "outputs": [],
   "source": [
    "# Format populations\n",
    "\n",
    "crucial_data['population'].replace(['a', 'rv', 'lv'], ['All adults', ' Registered voters', 'Likely voters'], inplace=True)\n",
    "crucial_data"
   ]
  },
  {
   "cell_type": "code",
   "execution_count": null,
   "id": "ab981a2e-bc56-4745-b393-70954d4fa6a9",
   "metadata": {},
   "outputs": [],
   "source": [
    "# Sort, then format the empty entries\n",
    " \n",
    "crucial_data.sort_values(['candidate_name', 'population', 'end_date'], inplace=True, ignore_index=True)\n",
    "crucial_data = crucial_data.replace('', np.NaN)\n",
    "crucial_data.head(50)"
   ]
  },
  {
   "cell_type": "code",
   "execution_count": null,
   "id": "b6e54ba9-3945-4fb2-9526-ef4a0fd04753",
   "metadata": {},
   "outputs": [],
   "source": [
    "# Forward fill the missing averages\n",
    " \n",
    "crucial_data['da_by_pop'] = crucial_data.groupby(['candidate_name', 'population'])['da_by_pop'].transform(lambda x: x.ffill())\n",
    "crucial_data.head(50)"
   ]
  },
  {
   "cell_type": "code",
   "execution_count": 19,
   "id": "410ea8ad",
   "metadata": {},
   "outputs": [],
   "source": [
    "# Add column for rolling averages\n",
    "   \n",
    "crucial_data['pop_raverage7'] = crucial_data.groupby(['candidate_name', \n",
    "        'population']).rolling(7, min_periods=1)['da_by_pop'].mean().reset_index(drop=True)  "
   ]
  },
  {
   "cell_type": "code",
   "execution_count": null,
   "id": "aa6d2155-2d8e-4dfe-94e5-a2a412f0108b",
   "metadata": {},
   "outputs": [],
   "source": [
    "crucial_data.head(50)"
   ]
  },
  {
   "cell_type": "code",
   "execution_count": 21,
   "id": "f9ae7567",
   "metadata": {},
   "outputs": [],
   "source": [
    "# Sort again\n",
    "\n",
    "crucial_data.sort_values(by=['candidate_name', 'population', 'end_date'], ascending=[True, True, False], inplace=True)"
   ]
  },
  {
   "cell_type": "code",
   "execution_count": null,
   "id": "6895e2f1",
   "metadata": {},
   "outputs": [],
   "source": [
    "# Remove the last six days from the old_data\n",
    "\n",
    "old_data = old_data[old_data['end_date'] <= last_date-pd.Timedelta(days=7)]\n",
    "old_data"
   ]
  },
  {
   "cell_type": "code",
   "execution_count": 23,
   "id": "c42d7f27",
   "metadata": {},
   "outputs": [],
   "source": [
    "# Combine new data with old data, then export to a file\n",
    "\n",
    "all_data = pd.concat([old_data, crucial_data], ignore_index=True)\n",
    "all_data.sort_values(by=['candidate_name', 'population', 'end_date'], ascending=[True, True, False], inplace=True)\n",
    "all_data.to_csv(\"president_polls_cleaned.csv\", index=False)"
   ]
  }
 ],
 "metadata": {
  "kernelspec": {
   "display_name": "base",
   "language": "python",
   "name": "python3"
  },
  "language_info": {
   "codemirror_mode": {
    "name": "ipython",
    "version": 3
   },
   "file_extension": ".py",
   "mimetype": "text/x-python",
   "name": "python",
   "nbconvert_exporter": "python",
   "pygments_lexer": "ipython3",
   "version": "3.12.4"
  }
 },
 "nbformat": 4,
 "nbformat_minor": 5
}
