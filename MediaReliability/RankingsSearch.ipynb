{
 "cells": [
  {
   "cell_type": "code",
   "execution_count": 1,
   "id": "eba2b9f8",
   "metadata": {},
   "outputs": [
    {
     "name": "stderr",
     "output_type": "stream",
     "text": [
      "C:\\Users\\leyjf\\anaconda3\\lib\\site-packages\\requests\\__init__.py:102: RequestsDependencyWarning: urllib3 (1.26.9) or chardet (5.1.0)/charset_normalizer (2.0.4) doesn't match a supported version!\n",
      "  warnings.warn(\"urllib3 ({}) or chardet ({})/charset_normalizer ({}) doesn't match a supported \"\n"
     ]
    }
   ],
   "source": [
    "import pandas as pd\n",
    "#!pip install googlesearch-python # needed because nothing else worked\n",
    "from googlesearch import search\n",
    "\n"
   ]
  },
  {
   "cell_type": "code",
   "execution_count": 2,
   "id": "c9a57489",
   "metadata": {},
   "outputs": [],
   "source": [
    "#df = pd.read_csv(\"rbfinaldata.csv\")"
   ]
  },
  {
   "cell_type": "code",
   "execution_count": 3,
   "id": "cb8b4d7a",
   "metadata": {},
   "outputs": [],
   "source": [
    "# Get full news source names\n",
    "\n",
    "#for "
   ]
  },
  {
   "cell_type": "code",
   "execution_count": 4,
   "id": "44c43439",
   "metadata": {},
   "outputs": [
    {
     "name": "stdout",
     "output_type": "stream",
     "text": [
      "Result 1: https://www.oann.com/shows/tippingpoint/\n",
      "Result 2: https://twitter.com/tippingpointoan?lang=en\n",
      "Result 3: https://www.instagram.com/tippingpointoan/?hl=en\n",
      "Result 4: https://www.imdb.com/title/tt18884106/\n",
      "Result 5: https://www.oann.com/tag/kara-mckinney/\n"
     ]
    }
   ],
   "source": [
    "num_results = 5\n",
    "query = 'OAN: Tipping Point with Kara McKinney'\n",
    "\n",
    "search_results = search(query, num_results=num_results, lang='en')\n",
    "for i, result in enumerate(search_results, start=1):\n",
    "    print(f'Result {i}: {result}')\n"
   ]
  }
 ],
 "metadata": {
  "kernelspec": {
   "display_name": "Python 3 (ipykernel)",
   "language": "python",
   "name": "python3"
  },
  "language_info": {
   "codemirror_mode": {
    "name": "ipython",
    "version": 3
   },
   "file_extension": ".py",
   "mimetype": "text/x-python",
   "name": "python",
   "nbconvert_exporter": "python",
   "pygments_lexer": "ipython3",
   "version": "3.9.12"
  }
 },
 "nbformat": 4,
 "nbformat_minor": 5
}
